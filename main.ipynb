{
 "cells": [
  {
   "cell_type": "code",
   "execution_count": 1,
   "id": "4d48c664-eaf4-412b-af2a-029094fc11e2",
   "metadata": {},
   "outputs": [],
   "source": [
    "\n",
    "import numpy as np # linear algebra\n",
    "import os\n",
    "from tqdm import tqdm\n",
    "from tensorflow import keras\n",
    "import cv2\n",
    "from sklearn.utils import shuffle\n",
    "from keras.utils import to_categorical\n",
    "from sklearn.model_selection import train_test_split\n",
    "from sklearn.metrics import classification_report, confusion_matrix, ConfusionMatrixDisplay\n",
    "import tensorflow\n",
    "from keras.applications.vgg16 import VGG16\n",
    "from keras.layers import Dense, Flatten\n",
    "from keras.models import Model\n",
    "import matplotlib.pyplot as plt"
   ]
  },
  {
   "cell_type": "code",
   "execution_count": 2,
   "id": "c9ad09b5-d434-4379-82e9-7957eab47956",
   "metadata": {},
   "outputs": [],
   "source": [
    "labels = ['NORMAL', 'PNEUMONIA']\n",
    "image_size = 150\n",
    "data_dirs = [\"train\", \"val\", \"test\"]"
   ]
  },
  {
   "cell_type": "code",
   "execution_count": 3,
   "id": "28cc2aec-f366-48ac-8d26-780afc3924c2",
   "metadata": {},
   "outputs": [],
   "source": [
    "# Initialize lists for data\n",
    "image_data = []\n",
    "label_data = []"
   ]
  },
  {
   "cell_type": "code",
   "execution_count": 4,
   "id": "799a9359-9bd9-4b86-8259-239114be1fe2",
   "metadata": {},
   "outputs": [
    {
     "name": "stdout",
     "output_type": "stream",
     "text": [
      "Pre-processing data\n",
      "\n"
     ]
    },
    {
     "name": "stderr",
     "output_type": "stream",
     "text": [
      "Processing train/NORMAL: 100%|█████████████████████████████████████████████████████| 1341/1341 [00:38<00:00, 35.24it/s]\n",
      "Processing train/PNEUMONIA: 100%|█████████████████████████████████████████████████| 3875/3875 [00:31<00:00, 121.60it/s]\n",
      "Processing val/NORMAL: 100%|█████████████████████████████████████████████████████████████| 8/8 [00:00<00:00, 55.14it/s]\n",
      "Processing val/PNEUMONIA: 100%|█████████████████████████████████████████████████████████| 8/8 [00:00<00:00, 121.71it/s]\n",
      "Processing test/NORMAL: 100%|████████████████████████████████████████████████████████| 234/234 [00:05<00:00, 46.69it/s]\n",
      "Processing test/PNEUMONIA: 100%|████████████████████████████████████████████████████| 390/390 [00:03<00:00, 106.65it/s]\n"
     ]
    }
   ],
   "source": [
    "print(\"Pre-processing data\\n\")\n",
    "\n",
    "# Load and process images from each directory\n",
    "base_path = \"chest_xray\"  # Adjusted to match your directory structure\n",
    "for data_dir in data_dirs:\n",
    "    for label in labels:\n",
    "        data_path = os.path.join(base_path, data_dir, label)\n",
    "        \n",
    "        # Check if directory exists\n",
    "        if not os.path.exists(data_path):\n",
    "            print(f\"Warning: Directory not found: {data_path}\")\n",
    "            continue\n",
    "            \n",
    "        # Process each image in the directory\n",
    "        for image_file in tqdm(os.listdir(data_path), desc=f\"Processing {data_dir}/{label}\"):\n",
    "            try:\n",
    "                # Construct full image path\n",
    "                image_path = os.path.join(data_path, image_file)\n",
    "                \n",
    "                # Read and resize image\n",
    "                image = cv2.imread(image_path)\n",
    "                if image is None:\n",
    "                    print(f\"Warning: Could not load image: {image_path}\")\n",
    "                    continue\n",
    "                    \n",
    "                image = cv2.resize(image, (image_size, image_size))\n",
    "                \n",
    "                # Append data\n",
    "                image_data.append(image)\n",
    "                label_data.append(label)\n",
    "            except Exception as e:\n",
    "                print(f\"Error processing {image_path}: {str(e)}\")\n",
    "\n",
    "# Convert to numpy arrays\n",
    "image_data = np.array(image_data)\n",
    "label_data = np.array(label_data)\n",
    "\n",
    "# Shuffle the data\n",
    "image_data, label_data = shuffle(image_data, label_data, random_state=42)\n",
    "\n",
    "# Split into training and testing sets\n",
    "X_train, X_test, Y_train, Y_test = train_test_split(\n",
    "    image_data, \n",
    "    label_data, \n",
    "    test_size=0.2, \n",
    "    random_state=42\n",
    ")"
   ]
  },
  {
   "cell_type": "code",
   "execution_count": 5,
   "id": "597eb108-974e-483b-bfd5-42790c490a5e",
   "metadata": {},
   "outputs": [
    {
     "name": "stdout",
     "output_type": "stream",
     "text": [
      "\n",
      "Data preprocessing complete:\n",
      "Training samples: 4684\n",
      "Testing samples: 1172\n",
      "Image shape: (150, 150, 3)\n"
     ]
    }
   ],
   "source": [
    "# Convert labels to categorical format\n",
    "def convert_labels(label_list, label_mapping):\n",
    "    return to_categorical([label_mapping.index(label) for label in label_list])\n",
    "\n",
    "# Convert train and test labels\n",
    "Y_train = convert_labels(Y_train, labels)\n",
    "Y_test = convert_labels(Y_test, labels)\n",
    "\n",
    "print(f\"\\nData preprocessing complete:\")\n",
    "print(f\"Training samples: {len(X_train)}\")\n",
    "print(f\"Testing samples: {len(X_test)}\")\n",
    "print(f\"Image shape: {X_train[0].shape}\")"
   ]
  },
  {
   "cell_type": "code",
   "execution_count": 6,
   "id": "d9d3a815-fffe-44f3-989a-5444eab0ec6b",
   "metadata": {},
   "outputs": [],
   "source": [
    "from tensorflow.keras.applications import VGG16\n",
    "from tensorflow.keras.layers import Flatten, Dense\n",
    "from tensorflow.keras.models import Model\n",
    "from tensorflow import keras\n",
    "\n",
    "# Redefine the model to ensure correctness\n",
    "vgg = VGG16(input_shape=(150, 150, 3), weights='imagenet', include_top=False)\n",
    "for layer in vgg.layers:\n",
    "    layer.trainable = False\n",
    "x = Flatten()(vgg.output)\n",
    "prediction = Dense(2, activation='softmax')(x)\n",
    "modelvgg = Model(inputs=vgg.input, outputs=prediction)\n"
   ]
  },
  {
   "cell_type": "code",
   "execution_count": 7,
   "id": "90161d87-54f2-47b2-8f05-75b6aacba3b4",
   "metadata": {},
   "outputs": [],
   "source": [
    "\n",
    "# Compile the model\n",
    "modelvgg.compile(\n",
    "    optimizer='adam',\n",
    "    loss=keras.losses.CategoricalCrossentropy(),\n",
    "    metrics=[\n",
    "        keras.metrics.AUC(name='auc'),\n",
    "        keras.metrics.Accuracy(name='accuracy'),\n",
    "        keras.metrics.Precision(name='precision'),\n",
    "        keras.metrics.Recall(name='recall'),\n",
    "        keras.metrics.AUC(name='roc_auc', curve='ROC')\n",
    "    ]\n",
    ")\n",
    "\n"
   ]
  },
  {
   "cell_type": "raw",
   "id": "6582811f-7a95-45a1-a616-25c25c757665",
   "metadata": {},
   "source": [
    "modelvgg.compile(\n",
    "    optimizer='adam',\n",
    "    loss=keras.losses.CategoricalCrossentropy(),\n",
    "    metrics=[\n",
    "        keras.metrics.Accuracy(name='accuracy'),  # Prediction Accuracy\n",
    "        keras.metrics.Precision(name='precision'),  # Precision\n",
    "        keras.metrics.Recall(name='recall'),  # Recall\n",
    "        keras.metrics.AUC(name='roc_auc', curve='ROC')  # ROC AUC\n",
    "    ]\n",
    ")\n",
    "\n",
    "# Print model summary to verify\n",
    "# modelvgg.summary()"
   ]
  },
  {
   "cell_type": "code",
   "execution_count": 12,
   "id": "0ec89ccd-c9a3-4cd7-b8f6-dd9a23d1e36f",
   "metadata": {},
   "outputs": [
    {
     "name": "stdout",
     "output_type": "stream",
     "text": [
      "Epoch 1/10\n",
      "469/469 [==============================] - 234s 497ms/step - loss: 0.7793 - accuracy: 0.7562 - precision: 0.9652 - recall: 0.9652 - roc_auc: 0.9710 - val_loss: 1.5893 - val_accuracy: 0.8187 - val_precision: 0.9539 - val_recall: 0.9539 - val_roc_auc: 0.9554\n",
      "Epoch 2/10\n",
      "469/469 [==============================] - 232s 494ms/step - loss: 0.5442 - accuracy: 0.8350 - precision: 0.9742 - recall: 0.9742 - roc_auc: 0.9784 - val_loss: 1.1309 - val_accuracy: 0.8404 - val_precision: 0.9676 - val_recall: 0.9676 - val_roc_auc: 0.9699\n",
      "Epoch 3/10\n",
      "469/469 [==============================] - 231s 493ms/step - loss: 0.5069 - accuracy: 0.8535 - precision: 0.9763 - recall: 0.9763 - roc_auc: 0.9816 - val_loss: 1.5904 - val_accuracy: 0.8537 - val_precision: 0.9599 - val_recall: 0.9599 - val_roc_auc: 0.9670\n",
      "Epoch 4/10\n",
      "469/469 [==============================] - 232s 494ms/step - loss: 0.5274 - accuracy: 0.8763 - precision: 0.9769 - recall: 0.9769 - roc_auc: 0.9798 - val_loss: 1.2515 - val_accuracy: 0.8759 - val_precision: 0.9667 - val_recall: 0.9667 - val_roc_auc: 0.9741\n",
      "Epoch 5/10\n",
      "469/469 [==============================] - 230s 491ms/step - loss: 0.2143 - accuracy: 0.8922 - precision: 0.9876 - recall: 0.9876 - roc_auc: 0.9910 - val_loss: 1.6278 - val_accuracy: 0.8703 - val_precision: 0.9642 - val_recall: 0.9642 - val_roc_auc: 0.9681\n",
      "Epoch 6/10\n",
      "469/469 [==============================] - 224s 478ms/step - loss: 0.2364 - accuracy: 0.8992 - precision: 0.9876 - recall: 0.9876 - roc_auc: 0.9903 - val_loss: 1.6920 - val_accuracy: 0.8865 - val_precision: 0.9693 - val_recall: 0.9693 - val_roc_auc: 0.9725\n",
      "Epoch 7/10\n",
      "469/469 [==============================] - 224s 478ms/step - loss: 0.3019 - accuracy: 0.9118 - precision: 0.9891 - recall: 0.9891 - roc_auc: 0.9910 - val_loss: 1.5883 - val_accuracy: 0.8861 - val_precision: 0.9659 - val_recall: 0.9659 - val_roc_auc: 0.9698\n",
      "Epoch 8/10\n",
      "469/469 [==============================] - 243s 519ms/step - loss: 0.1580 - accuracy: 0.9215 - precision: 0.9934 - recall: 0.9934 - roc_auc: 0.9942 - val_loss: 2.6145 - val_accuracy: 0.8827 - val_precision: 0.9573 - val_recall: 0.9573 - val_roc_auc: 0.9595\n",
      "Epoch 9/10\n",
      "469/469 [==============================] - 242s 516ms/step - loss: 0.3763 - accuracy: 0.9199 - precision: 0.9868 - recall: 0.9868 - roc_auc: 0.9882 - val_loss: 2.3011 - val_accuracy: 0.8528 - val_precision: 0.9539 - val_recall: 0.9539 - val_roc_auc: 0.9576\n",
      "Epoch 10/10\n",
      "469/469 [==============================] - 239s 509ms/step - loss: 0.2773 - accuracy: 0.9289 - precision: 0.9900 - recall: 0.9900 - roc_auc: 0.9914 - val_loss: 2.9829 - val_accuracy: 0.8997 - val_precision: 0.9573 - val_recall: 0.9573 - val_roc_auc: 0.9630\n"
     ]
    }
   ],
   "source": [
    "\n",
    "# Train the model\n",
    "history = modelvgg.fit(\n",
    "    X_train, Y_train,\n",
    "    epochs=10,\n",
    "    batch_size=10,\n",
    "    validation_data=(X_test, Y_test),\n",
    "    callbacks=[callback]\n",
    ")\n"
   ]
  },
  {
   "cell_type": "code",
   "execution_count": 14,
   "id": "6f48935a-4cdc-4008-836f-b19f47c6917c",
   "metadata": {},
   "outputs": [
    {
     "name": "stdout",
     "output_type": "stream",
     "text": [
      "37/37 [==============================] - 46s 1s/step - loss: 1.1309 - accuracy: 0.8404 - precision: 0.9676 - recall: 0.9676 - roc_auc: 0.9699\n",
      "Test Loss: 1.1309\n",
      "Test AUC: 0.8404\n",
      "Test Accuracy: 0.9676\n",
      "Test Precision: 0.9676\n",
      "Test Recall: 0.9699\n"
     ]
    }
   ],
   "source": [
    "# Evaluate the model on the test set\n",
    "test_loss, test_auc, test_accuracy, test_precision, test_recall = modelvgg.evaluate(X_test, Y_test)\n",
    "\n",
    "# Print the results\n",
    "print(f\"Test Loss: {test_loss:.4f}\")\n",
    "print(f\"Test AUC: {test_auc:.4f}\")  # AUC (this includes ROC AUC)\n",
    "print(f\"Test Accuracy: {test_accuracy:.4f}\")\n",
    "print(f\"Test Precision: {test_precision:.4f}\")\n",
    "print(f\"Test Recall: {test_recall:.4f}\")\n"
   ]
  },
  {
   "cell_type": "code",
   "execution_count": null,
   "id": "90770553-2df0-4076-8594-ff3de240fb42",
   "metadata": {},
   "outputs": [],
   "source": [
    "Test Loss: 1.1309\n",
    "Test AUC: 0.8404\n",
    "Test Accuracy: 0.9676\n",
    "Test Precision: 0.9676\n",
    "Test Recall: 0.9699"
   ]
  },
  {
   "cell_type": "code",
   "execution_count": 15,
   "id": "48358f44-d553-4ffe-82b8-9ae7e952333c",
   "metadata": {},
   "outputs": [],
   "source": [
    "# Save the trained model\n",
    "modelvgg.save(\"modelvgg.h5\")"
   ]
  },
  {
   "cell_type": "code",
   "execution_count": null,
   "id": "c06dcfdf-949e-4335-8321-15afc0d1728e",
   "metadata": {},
   "outputs": [],
   "source": [
    "from tensroflow.keras.models import load_model"
   ]
  },
  {
   "cell_type": "code",
   "execution_count": null,
   "id": "b63980d9-b992-4f19-b033-f923a563daf1",
   "metadata": {},
   "outputs": [],
   "source": [
    "import matplotlib.pyplot as plt\n",
    "\n",
    "# Function to plot metrics\n",
    "def plot_metric(history, metric, title):\n",
    "    plt.plot(history.history[metric], label=f'Train {metric}')\n",
    "    plt.plot(history.history[f'val_{metric}'], label=f'Validation {metric}')\n",
    "    plt.title(title)\n",
    "    plt.xlabel('Epoch')\n",
    "    plt.ylabel(metric.capitalize())\n",
    "    plt.legend()\n",
    "    plt.grid(True)\n",
    "    plt.show()\n",
    "\n",
    "# Plot all metrics\n",
    "metrics = ['auc', 'accuracy', 'precision', 'recall', 'roc_auc', 'loss']\n",
    "titles = [\n",
    "    'AUC vs Epochs', 'Accuracy vs Epochs', 'Precision vs Epochs',\n",
    "    'Recall vs Epochs', 'ROC AUC vs Epochs', 'Loss vs Epochs'\n",
    "]\n",
    "\n",
    "for metric, title in zip(metrics, titles):\n",
    "    plot_metric(history, metric, title)"
   ]
  },
  {
   "cell_type": "code",
   "execution_count": 16,
   "id": "0fea80a1-fd2e-4b84-92cf-8424c12fcd5e",
   "metadata": {},
   "outputs": [],
   "source": [
    "# Store VGG16 results\n",
    "vgg16_results = {\n",
    "    'Test Loss': test_loss,\n",
    "    'Test AUC': test_auc,\n",
    "    'Test Accuracy': test_accuracy,\n",
    "    'Test Precision': test_precision,\n",
    "    'Test Recall': test_recall,\n",
    "}"
   ]
  }
 ],
 "metadata": {
  "kernelspec": {
   "display_name": "Python 3 (ipykernel)",
   "language": "python",
   "name": "python3"
  },
  "language_info": {
   "codemirror_mode": {
    "name": "ipython",
    "version": 3
   },
   "file_extension": ".py",
   "mimetype": "text/x-python",
   "name": "python",
   "nbconvert_exporter": "python",
   "pygments_lexer": "ipython3",
   "version": "3.9.0"
  }
 },
 "nbformat": 4,
 "nbformat_minor": 5
}
